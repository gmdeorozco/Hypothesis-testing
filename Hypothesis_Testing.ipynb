{
  "nbformat": 4,
  "nbformat_minor": 0,
  "metadata": {
    "colab": {
      "provenance": [],
      "authorship_tag": "ABX9TyMd74R+QNWLVHUHbPUYTnk/",
      "include_colab_link": true
    },
    "kernelspec": {
      "name": "python3",
      "display_name": "Python 3"
    },
    "language_info": {
      "name": "python"
    }
  },
  "cells": [
    {
      "cell_type": "markdown",
      "metadata": {
        "id": "view-in-github",
        "colab_type": "text"
      },
      "source": [
        "<a href=\"https://colab.research.google.com/github/gmdeorozco/Hypothesis-testing/blob/main/Hypothesis_Testing.ipynb\" target=\"_parent\"><img src=\"https://colab.research.google.com/assets/colab-badge.svg\" alt=\"Open In Colab\"/></a>"
      ]
    },
    {
      "cell_type": "markdown",
      "source": [
        "Imagine that you have a coin, but you don't know whether it's fair or not. The proportion you are interested in is\n",
        "p=P(H). A possible set of hypothesis for this problem is:\n",
        "\n",
        "H0:p=0.5 vs. H1:p not= 0.5"
      ],
      "metadata": {
        "id": "BGy7pheiTEBB"
      }
    },
    {
      "cell_type": "markdown",
      "source": [
        "Imagine you toss the coin 20 times, of which 7 turned out heads.\n"
      ],
      "metadata": {
        "id": "2Pvu8DUrTrlm"
      }
    },
    {
      "cell_type": "code",
      "source": [],
      "metadata": {
        "id": "nJ7oRF--TeRX"
      },
      "execution_count": null,
      "outputs": []
    }
  ]
}